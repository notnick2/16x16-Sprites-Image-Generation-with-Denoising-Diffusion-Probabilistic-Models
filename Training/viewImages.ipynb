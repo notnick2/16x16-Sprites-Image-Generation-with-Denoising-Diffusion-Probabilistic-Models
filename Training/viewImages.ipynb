{
 "cells": [
  {
   "cell_type": "code",
   "execution_count": 2,
   "metadata": {},
   "outputs": [
    {
     "name": "stdout",
     "output_type": "stream",
     "text": [
      "Shape of the array: (89400, 16, 16, 3)\n"
     ]
    },
    {
     "data": {
      "image/png": "[encoded data removed]",
      "text/plain": [
       "<Figure size 1440x144 with 10 Axes>"
      ]
     },
     "metadata": {
      "needs_background": "light"
     },
     "output_type": "display_data"
    }
   ],
   "source": [
    "import numpy as np\n",
    "import matplotlib.pyplot as plt\n",
    "\n",
    "# Step 1: Load the .npy file\n",
    "file_path = 'sprites_1788_16x16.npy'\n",
    "sprites = np.load(file_path)\n",
    "\n",
    "# Step 2: Inspect the data\n",
    "print(\"Shape of the array:\", sprites.shape)\n",
    "\n",
    "# Step 3: Display the images\n",
    "# Assuming the sprites array is of shape (number_of_sprites, height, width, channels)\n",
    "num_sprites_to_display = 10  # Number of sprites you want to display\n",
    "plt.figure(figsize=(20, 2))\n",
    "for i in range(num_sprites_to_display):\n",
    "    plt.subplot(1, num_sprites_to_display, i + 1)\n",
    "    plt.imshow(sprites[i])\n",
    "    plt.axis('off')\n",
    "\n",
    "plt.show()\n"
   ]
  }
 ],
 "metadata": {
  "kernelspec": {
   "display_name": "base",
   "language": "python",
   "name": "python3"
  },
  "language_info": {
   "codemirror_mode": {
    "name": "ipython",
    "version": 3
   },
   "file_extension": ".py",
   "mimetype": "text/x-python",
   "name": "python",
   "nbconvert_exporter": "python",
   "pygments_lexer": "ipython3",
   "version": "3.9.12"
  }
 },
 "nbformat": 4,
 "nbformat_minor": 2
}
